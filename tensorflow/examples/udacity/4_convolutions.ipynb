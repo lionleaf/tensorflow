{
 "cells": [
  {
   "cell_type": "markdown",
   "metadata": {
    "colab_type": "text",
    "id": "4embtkV0pNxM"
   },
   "source": [
    "Deep Learning\n",
    "=============\n",
    "\n",
    "Assignment 4\n",
    "------------\n",
    "\n",
    "Previously in `2_fullyconnected.ipynb` and `3_regularization.ipynb`, we trained fully connected networks to classify [notMNIST](http://yaroslavvb.blogspot.com/2011/09/notmnist-dataset.html) characters.\n",
    "\n",
    "The goal of this assignment is make the neural network convolutional."
   ]
  },
  {
   "cell_type": "code",
   "execution_count": 1,
   "metadata": {
    "cellView": "both",
    "colab": {
     "autoexec": {
      "startup": false,
      "wait_interval": 0
     }
    },
    "colab_type": "code",
    "collapsed": true,
    "id": "tm2CQN_Cpwj0"
   },
   "outputs": [],
   "source": [
    "# These are all the modules we'll be using later. Make sure you can import them\n",
    "# before proceeding further.\n",
    "from __future__ import print_function\n",
    "import numpy as np\n",
    "import tensorflow as tf\n",
    "from six.moves import cPickle as pickle\n",
    "from six.moves import range"
   ]
  },
  {
   "cell_type": "code",
   "execution_count": 2,
   "metadata": {
    "cellView": "both",
    "colab": {
     "autoexec": {
      "startup": false,
      "wait_interval": 0
     },
     "output_extras": [
      {
       "item_id": 1
      }
     ]
    },
    "colab_type": "code",
    "collapsed": false,
    "executionInfo": {
     "elapsed": 11948,
     "status": "ok",
     "timestamp": 1446658914837,
     "user": {
      "color": "",
      "displayName": "",
      "isAnonymous": false,
      "isMe": true,
      "permissionId": "",
      "photoUrl": "",
      "sessionId": "0",
      "userId": ""
     },
     "user_tz": 480
    },
    "id": "y3-cj1bpmuxc",
    "outputId": "016b1a51-0290-4b08-efdb-8c95ffc3cd01"
   },
   "outputs": [
    {
     "name": "stdout",
     "output_type": "stream",
     "text": [
      "Training set (400000, 28, 28) (400000,)\n",
      "Validation set (20000, 28, 28) (20000,)\n",
      "Test set (15000, 28, 28) (15000,)\n"
     ]
    }
   ],
   "source": [
    "pickle_file = 'notMNIST.pickle'\n",
    "\n",
    "with open(pickle_file, 'rb') as f:\n",
    "  save = pickle.load(f)\n",
    "  train_dataset = save['train_dataset']\n",
    "  train_labels = save['train_labels']\n",
    "  valid_dataset = save['valid_dataset']\n",
    "  valid_labels = save['valid_labels']\n",
    "  test_dataset = save['test_dataset']\n",
    "  test_labels = save['test_labels']\n",
    "  del save  # hint to help gc free up memory\n",
    "  print('Training set', train_dataset.shape, train_labels.shape)\n",
    "  print('Validation set', valid_dataset.shape, valid_labels.shape)\n",
    "  print('Test set', test_dataset.shape, test_labels.shape)"
   ]
  },
  {
   "cell_type": "markdown",
   "metadata": {
    "colab_type": "text",
    "id": "L7aHrm6nGDMB"
   },
   "source": [
    "Reformat into a TensorFlow-friendly shape:\n",
    "- convolutions need the image data formatted as a cube (width by height by #channels)\n",
    "- labels as float 1-hot encodings."
   ]
  },
  {
   "cell_type": "code",
   "execution_count": 3,
   "metadata": {
    "cellView": "both",
    "colab": {
     "autoexec": {
      "startup": false,
      "wait_interval": 0
     },
     "output_extras": [
      {
       "item_id": 1
      }
     ]
    },
    "colab_type": "code",
    "collapsed": false,
    "executionInfo": {
     "elapsed": 11952,
     "status": "ok",
     "timestamp": 1446658914857,
     "user": {
      "color": "",
      "displayName": "",
      "isAnonymous": false,
      "isMe": true,
      "permissionId": "",
      "photoUrl": "",
      "sessionId": "0",
      "userId": ""
     },
     "user_tz": 480
    },
    "id": "IRSyYiIIGIzS",
    "outputId": "650a208c-8359-4852-f4f5-8bf10e80ef6c"
   },
   "outputs": [
    {
     "name": "stdout",
     "output_type": "stream",
     "text": [
      "Training set (400000, 28, 28, 1) (400000, 10)\n",
      "Validation set (20000, 28, 28, 1) (20000, 10)\n",
      "Test set (15000, 28, 28, 1) (15000, 10)\n"
     ]
    }
   ],
   "source": [
    "image_size = 28\n",
    "num_labels = 10\n",
    "num_channels = 1 # grayscale\n",
    "\n",
    "import numpy as np\n",
    "\n",
    "def reformat(dataset, labels):\n",
    "  dataset = dataset.reshape(\n",
    "    (-1, image_size, image_size, num_channels)).astype(np.float32)\n",
    "  labels = (np.arange(num_labels) == labels[:,None]).astype(np.float32)\n",
    "  return dataset, labels\n",
    "train_dataset, train_labels = reformat(train_dataset, train_labels)\n",
    "valid_dataset, valid_labels = reformat(valid_dataset, valid_labels)\n",
    "test_dataset, test_labels = reformat(test_dataset, test_labels)\n",
    "print('Training set', train_dataset.shape, train_labels.shape)\n",
    "print('Validation set', valid_dataset.shape, valid_labels.shape)\n",
    "print('Test set', test_dataset.shape, test_labels.shape)"
   ]
  },
  {
   "cell_type": "code",
   "execution_count": 4,
   "metadata": {
    "cellView": "both",
    "colab": {
     "autoexec": {
      "startup": false,
      "wait_interval": 0
     }
    },
    "colab_type": "code",
    "collapsed": true,
    "id": "AgQDIREv02p1"
   },
   "outputs": [],
   "source": [
    "def accuracy(predictions, labels):\n",
    "  return (100.0 * np.sum(np.argmax(predictions, 1) == np.argmax(labels, 1))\n",
    "          / predictions.shape[0])"
   ]
  },
  {
   "cell_type": "markdown",
   "metadata": {
    "colab_type": "text",
    "id": "5rhgjmROXu2O"
   },
   "source": [
    "Let's build a small network with two convolutional layers, followed by one fully connected layer. Convolutional networks are more expensive computationally, so we'll limit its depth and number of fully connected nodes."
   ]
  },
  {
   "cell_type": "code",
   "execution_count": 10,
   "metadata": {
    "cellView": "both",
    "colab": {
     "autoexec": {
      "startup": false,
      "wait_interval": 0
     }
    },
    "colab_type": "code",
    "collapsed": true,
    "id": "IZYv70SvvOan"
   },
   "outputs": [],
   "source": [
    "batch_size = 256\n",
    "patch_size = 5\n",
    "depth = 16\n",
    "num_hidden = 1024\n",
    "\n",
    "graph = tf.Graph()\n",
    "\n",
    "with graph.as_default():\n",
    "\n",
    "  # Input data.\n",
    "  tf_train_dataset = tf.placeholder(\n",
    "    tf.float32, shape=(batch_size, image_size, image_size, num_channels))\n",
    "  tf_train_labels = tf.placeholder(tf.float32, shape=(batch_size, num_labels))\n",
    "  tf_valid_dataset = tf.constant(valid_dataset)\n",
    "  tf_test_dataset = tf.constant(test_dataset)\n",
    "  \n",
    "  # Variables.\n",
    "  layer1_weights = tf.Variable(tf.truncated_normal(\n",
    "      [patch_size, patch_size, num_channels, depth], stddev=0.1))\n",
    "  layer1_biases = tf.Variable(tf.zeros([depth]))\n",
    "  layer2_weights = tf.Variable(tf.truncated_normal(\n",
    "      [patch_size, patch_size, depth, depth], stddev=0.1))\n",
    "  layer2_biases = tf.Variable(tf.constant(1.0, shape=[depth]))\n",
    "  layer3_weights = tf.Variable(tf.truncated_normal(\n",
    "      [image_size // 4 * image_size // 4 * depth, num_hidden], stddev=0.1))\n",
    "  layer3_biases = tf.Variable(tf.constant(1.0, shape=[num_hidden]))\n",
    "  layer4_weights = tf.Variable(tf.truncated_normal(\n",
    "      [num_hidden, num_labels], stddev=0.1))\n",
    "  layer4_biases = tf.Variable(tf.constant(1.0, shape=[num_labels]))\n",
    "  \n",
    "  # Model.\n",
    "  def model(data):\n",
    "    conv = tf.nn.conv2d(data, layer1_weights, [1, 2, 2, 1], padding='SAME')\n",
    "    hidden = tf.nn.relu(conv + layer1_biases)\n",
    "    conv = tf.nn.conv2d(hidden, layer2_weights, [1, 2, 2, 1], padding='SAME')\n",
    "    hidden = tf.nn.relu(conv + layer2_biases)\n",
    "    shape = hidden.get_shape().as_list()\n",
    "    reshape = tf.reshape(hidden, [shape[0], shape[1] * shape[2] * shape[3]])\n",
    "    hidden = tf.nn.relu(tf.matmul(reshape, layer3_weights) + layer3_biases)\n",
    "    return tf.matmul(hidden, layer4_weights) + layer4_biases\n",
    "  \n",
    "  # Training computation.\n",
    "  logits = model(tf_train_dataset)\n",
    "  loss = tf.reduce_mean(\n",
    "    tf.nn.softmax_cross_entropy_with_logits(logits, tf_train_labels))\n",
    "    \n",
    "  # Optimizer.\n",
    "  optimizer = tf.train.GradientDescentOptimizer(0.05).minimize(loss)\n",
    "  \n",
    "  # Predictions for the training, validation, and test data.\n",
    "  train_prediction = tf.nn.softmax(logits)\n",
    "  valid_prediction = tf.nn.softmax(model(tf_valid_dataset))\n",
    "  test_prediction = tf.nn.softmax(model(tf_test_dataset))"
   ]
  },
  {
   "cell_type": "code",
   "execution_count": 11,
   "metadata": {
    "cellView": "both",
    "colab": {
     "autoexec": {
      "startup": false,
      "wait_interval": 0
     },
     "output_extras": [
      {
       "item_id": 37
      }
     ]
    },
    "colab_type": "code",
    "collapsed": false,
    "executionInfo": {
     "elapsed": 63292,
     "status": "ok",
     "timestamp": 1446658966251,
     "user": {
      "color": "",
      "displayName": "",
      "isAnonymous": false,
      "isMe": true,
      "permissionId": "",
      "photoUrl": "",
      "sessionId": "0",
      "userId": ""
     },
     "user_tz": 480
    },
    "id": "noKFb2UovVFR",
    "outputId": "28941338-2ef9-4088-8bd1-44295661e628"
   },
   "outputs": [
    {
     "name": "stdout",
     "output_type": "stream",
     "text": [
      "Initialized\n",
      "Minibatch loss at step 0: 15.558879\n",
      "Minibatch accuracy: 9.8%\n",
      "Validation accuracy: 9.2%\n",
      "Minibatch loss at step 100: 1.718061\n",
      "Minibatch accuracy: 59.4%\n",
      "Validation accuracy: 63.0%\n",
      "Minibatch loss at step 200: 0.823386\n",
      "Minibatch accuracy: 77.7%\n",
      "Validation accuracy: 78.2%\n",
      "Minibatch loss at step 300: 0.798714\n",
      "Minibatch accuracy: 78.9%\n",
      "Validation accuracy: 78.6%\n",
      "Minibatch loss at step 400: 0.555745\n",
      "Minibatch accuracy: 82.4%\n",
      "Validation accuracy: 83.1%\n",
      "Minibatch loss at step 500: 0.785785\n",
      "Minibatch accuracy: 78.9%\n",
      "Validation accuracy: 82.2%\n",
      "Minibatch loss at step 600: 0.648710\n",
      "Minibatch accuracy: 79.7%\n",
      "Validation accuracy: 82.0%\n",
      "Minibatch loss at step 700: 0.489010\n",
      "Minibatch accuracy: 86.7%\n",
      "Validation accuracy: 84.9%\n",
      "Minibatch loss at step 800: 0.642684\n",
      "Minibatch accuracy: 80.5%\n",
      "Validation accuracy: 85.0%\n",
      "Minibatch loss at step 900: 0.600864\n",
      "Minibatch accuracy: 83.2%\n",
      "Validation accuracy: 85.4%\n",
      "Minibatch loss at step 1000: 0.638980\n",
      "Minibatch accuracy: 82.4%\n",
      "Validation accuracy: 84.5%\n",
      "Minibatch loss at step 1100: 0.420594\n",
      "Minibatch accuracy: 88.3%\n",
      "Validation accuracy: 86.0%\n",
      "Minibatch loss at step 1200: 0.565570\n",
      "Minibatch accuracy: 85.5%\n",
      "Validation accuracy: 86.1%\n",
      "Minibatch loss at step 1300: 0.487181\n",
      "Minibatch accuracy: 84.8%\n",
      "Validation accuracy: 86.1%\n",
      "Minibatch loss at step 1400: 0.517859\n",
      "Minibatch accuracy: 85.9%\n",
      "Validation accuracy: 86.5%\n",
      "Minibatch loss at step 1500: 0.579282\n",
      "Minibatch accuracy: 84.4%\n",
      "Validation accuracy: 86.2%\n",
      "Minibatch loss at step 1600: 0.595420\n",
      "Minibatch accuracy: 83.2%\n",
      "Validation accuracy: 86.7%\n",
      "Minibatch loss at step 1700: 0.550609\n",
      "Minibatch accuracy: 83.2%\n",
      "Validation accuracy: 86.3%\n",
      "Minibatch loss at step 1800: 0.427649\n",
      "Minibatch accuracy: 88.3%\n",
      "Validation accuracy: 87.0%\n",
      "Minibatch loss at step 1900: 0.521148\n",
      "Minibatch accuracy: 87.1%\n",
      "Validation accuracy: 87.0%\n",
      "Minibatch loss at step 2000: 0.413640\n",
      "Minibatch accuracy: 86.3%\n",
      "Validation accuracy: 86.8%\n",
      "Minibatch loss at step 2100: 0.379928\n",
      "Minibatch accuracy: 89.1%\n",
      "Validation accuracy: 87.5%\n",
      "Minibatch loss at step 2200: 0.474432\n",
      "Minibatch accuracy: 85.5%\n",
      "Validation accuracy: 87.0%\n",
      "Minibatch loss at step 2300: 0.443431\n",
      "Minibatch accuracy: 87.1%\n",
      "Validation accuracy: 87.2%\n",
      "Minibatch loss at step 2400: 0.458923\n",
      "Minibatch accuracy: 85.5%\n",
      "Validation accuracy: 87.2%\n",
      "Minibatch loss at step 2500: 0.474506\n",
      "Minibatch accuracy: 85.2%\n",
      "Validation accuracy: 87.6%\n",
      "Minibatch loss at step 2600: 0.403815\n",
      "Minibatch accuracy: 88.7%\n",
      "Validation accuracy: 87.5%\n",
      "Minibatch loss at step 2700: 0.442209\n",
      "Minibatch accuracy: 85.5%\n",
      "Validation accuracy: 88.2%\n",
      "Minibatch loss at step 2800: 0.445785\n",
      "Minibatch accuracy: 89.8%\n",
      "Validation accuracy: 87.9%\n",
      "Minibatch loss at step 2900: 0.474122\n",
      "Minibatch accuracy: 88.7%\n",
      "Validation accuracy: 87.6%\n",
      "Minibatch loss at step 3000: 0.370925\n",
      "Minibatch accuracy: 88.3%\n",
      "Validation accuracy: 87.7%\n",
      "Minibatch loss at step 3100: 0.386777\n",
      "Minibatch accuracy: 89.5%\n",
      "Validation accuracy: 88.3%\n",
      "Minibatch loss at step 3200: 0.346739\n",
      "Minibatch accuracy: 90.6%\n",
      "Validation accuracy: 88.3%\n",
      "Minibatch loss at step 3300: 0.438666\n",
      "Minibatch accuracy: 86.7%\n",
      "Validation accuracy: 87.8%\n",
      "Minibatch loss at step 3400: 0.370249\n",
      "Minibatch accuracy: 88.3%\n",
      "Validation accuracy: 88.2%\n",
      "Minibatch loss at step 3500: 0.508828\n",
      "Minibatch accuracy: 84.8%\n",
      "Validation accuracy: 88.3%\n",
      "Minibatch loss at step 3600: 0.461024\n",
      "Minibatch accuracy: 85.5%\n",
      "Validation accuracy: 88.3%\n",
      "Minibatch loss at step 3700: 0.464849\n",
      "Minibatch accuracy: 86.3%\n",
      "Validation accuracy: 88.3%\n",
      "Minibatch loss at step 3800: 0.360669\n",
      "Minibatch accuracy: 88.3%\n",
      "Validation accuracy: 88.6%\n",
      "Minibatch loss at step 3900: 0.282929\n",
      "Minibatch accuracy: 93.0%\n",
      "Validation accuracy: 88.6%\n",
      "Minibatch loss at step 4000: 0.412540\n",
      "Minibatch accuracy: 88.7%\n",
      "Validation accuracy: 88.7%\n",
      "Minibatch loss at step 4100: 0.404254\n",
      "Minibatch accuracy: 88.7%\n",
      "Validation accuracy: 88.9%\n",
      "Minibatch loss at step 4200: 0.318632\n",
      "Minibatch accuracy: 93.0%\n",
      "Validation accuracy: 88.8%\n",
      "Minibatch loss at step 4300: 0.439823\n",
      "Minibatch accuracy: 88.3%\n",
      "Validation accuracy: 88.8%\n",
      "Minibatch loss at step 4400: 0.330943\n",
      "Minibatch accuracy: 91.4%\n",
      "Validation accuracy: 89.1%\n",
      "Minibatch loss at step 4500: 0.303655\n",
      "Minibatch accuracy: 91.8%\n",
      "Validation accuracy: 88.5%\n",
      "Minibatch loss at step 4600: 0.338498\n",
      "Minibatch accuracy: 90.6%\n",
      "Validation accuracy: 88.9%\n",
      "Minibatch loss at step 4700: 0.312116\n",
      "Minibatch accuracy: 89.8%\n",
      "Validation accuracy: 88.9%\n",
      "Minibatch loss at step 4800: 0.355876\n",
      "Minibatch accuracy: 89.1%\n",
      "Validation accuracy: 88.9%\n",
      "Minibatch loss at step 4900: 0.453379\n",
      "Minibatch accuracy: 85.9%\n",
      "Validation accuracy: 89.1%\n",
      "Minibatch loss at step 5000: 0.348599\n",
      "Minibatch accuracy: 89.8%\n",
      "Validation accuracy: 88.2%\n",
      "Minibatch loss at step 5100: 0.430342\n",
      "Minibatch accuracy: 87.1%\n",
      "Validation accuracy: 89.1%\n",
      "Minibatch loss at step 5200: 0.290618\n",
      "Minibatch accuracy: 91.0%\n",
      "Validation accuracy: 89.2%\n",
      "Minibatch loss at step 5300: 0.298632\n",
      "Minibatch accuracy: 91.4%\n",
      "Validation accuracy: 89.3%\n",
      "Minibatch loss at step 5400: 0.330494\n",
      "Minibatch accuracy: 89.1%\n",
      "Validation accuracy: 88.9%\n",
      "Minibatch loss at step 5500: 0.262405\n",
      "Minibatch accuracy: 91.8%\n",
      "Validation accuracy: 89.3%\n",
      "Minibatch loss at step 5600: 0.373299\n",
      "Minibatch accuracy: 88.3%\n",
      "Validation accuracy: 89.3%\n",
      "Minibatch loss at step 5700: 0.383660\n",
      "Minibatch accuracy: 89.5%\n",
      "Validation accuracy: 89.3%\n",
      "Minibatch loss at step 5800: 0.345827\n",
      "Minibatch accuracy: 89.5%\n",
      "Validation accuracy: 89.6%\n",
      "Minibatch loss at step 5900: 0.356921\n",
      "Minibatch accuracy: 89.1%\n",
      "Validation accuracy: 89.4%\n",
      "Minibatch loss at step 6000: 0.380580\n",
      "Minibatch accuracy: 87.5%\n",
      "Validation accuracy: 89.6%\n",
      "Minibatch loss at step 6100: 0.377529\n",
      "Minibatch accuracy: 88.7%\n",
      "Validation accuracy: 89.3%\n",
      "Minibatch loss at step 6200: 0.366025\n",
      "Minibatch accuracy: 89.5%\n",
      "Validation accuracy: 89.5%\n",
      "Minibatch loss at step 6300: 0.324042\n",
      "Minibatch accuracy: 90.2%\n",
      "Validation accuracy: 89.6%\n",
      "Minibatch loss at step 6400: 0.390260\n",
      "Minibatch accuracy: 88.7%\n",
      "Validation accuracy: 89.5%\n",
      "Minibatch loss at step 6500: 0.360197\n",
      "Minibatch accuracy: 90.2%\n",
      "Validation accuracy: 89.3%\n",
      "Minibatch loss at step 6600: 0.285558\n",
      "Minibatch accuracy: 91.4%\n",
      "Validation accuracy: 89.7%\n",
      "Minibatch loss at step 6700: 0.337690\n",
      "Minibatch accuracy: 90.6%\n",
      "Validation accuracy: 89.7%\n",
      "Minibatch loss at step 6800: 0.336984\n",
      "Minibatch accuracy: 90.6%\n",
      "Validation accuracy: 89.6%\n",
      "Minibatch loss at step 6900: 0.322882\n",
      "Minibatch accuracy: 89.5%\n",
      "Validation accuracy: 89.5%\n",
      "Minibatch loss at step 7000: 0.264865\n",
      "Minibatch accuracy: 91.4%\n",
      "Validation accuracy: 89.9%\n",
      "Minibatch loss at step 7100: 0.299621\n",
      "Minibatch accuracy: 90.6%\n",
      "Validation accuracy: 89.8%\n",
      "Minibatch loss at step 7200: 0.304252\n",
      "Minibatch accuracy: 90.2%\n",
      "Validation accuracy: 89.8%\n",
      "Minibatch loss at step 7300: 0.407576\n",
      "Minibatch accuracy: 85.5%\n",
      "Validation accuracy: 89.8%\n",
      "Minibatch loss at step 7400: 0.347804\n",
      "Minibatch accuracy: 89.8%\n",
      "Validation accuracy: 89.8%\n",
      "Minibatch loss at step 7500: 0.402924\n",
      "Minibatch accuracy: 86.3%\n",
      "Validation accuracy: 90.1%\n",
      "Minibatch loss at step 7600: 0.386922\n",
      "Minibatch accuracy: 89.5%\n",
      "Validation accuracy: 89.8%\n",
      "Minibatch loss at step 7700: 0.344649\n",
      "Minibatch accuracy: 89.8%\n",
      "Validation accuracy: 89.9%\n",
      "Minibatch loss at step 7800: 0.276089\n",
      "Minibatch accuracy: 91.0%\n",
      "Validation accuracy: 89.7%\n",
      "Minibatch loss at step 7900: 0.226454\n",
      "Minibatch accuracy: 93.0%\n",
      "Validation accuracy: 90.0%\n",
      "Minibatch loss at step 8000: 0.366656\n",
      "Minibatch accuracy: 89.5%\n",
      "Validation accuracy: 90.1%\n",
      "Minibatch loss at step 8100: 0.340527\n",
      "Minibatch accuracy: 89.5%\n",
      "Validation accuracy: 90.1%\n",
      "Minibatch loss at step 8200: 0.213620\n",
      "Minibatch accuracy: 92.6%\n",
      "Validation accuracy: 90.1%\n",
      "Minibatch loss at step 8300: 0.375003\n",
      "Minibatch accuracy: 87.9%\n",
      "Validation accuracy: 90.0%\n",
      "Minibatch loss at step 8400: 0.364944\n",
      "Minibatch accuracy: 89.5%\n",
      "Validation accuracy: 90.2%\n",
      "Minibatch loss at step 8500: 0.369007\n",
      "Minibatch accuracy: 87.1%\n",
      "Validation accuracy: 89.7%\n",
      "Minibatch loss at step 8600: 0.343108\n",
      "Minibatch accuracy: 89.8%\n",
      "Validation accuracy: 90.1%\n",
      "Minibatch loss at step 8700: 0.391313\n",
      "Minibatch accuracy: 87.1%\n",
      "Validation accuracy: 90.2%\n",
      "Minibatch loss at step 8800: 0.340337\n",
      "Minibatch accuracy: 91.0%\n",
      "Validation accuracy: 90.2%\n",
      "Minibatch loss at step 8900: 0.290724\n",
      "Minibatch accuracy: 90.2%\n",
      "Validation accuracy: 90.2%\n",
      "Minibatch loss at step 9000: 0.365065\n",
      "Minibatch accuracy: 87.5%\n",
      "Validation accuracy: 89.8%\n",
      "Minibatch loss at step 9100: 0.363108\n",
      "Minibatch accuracy: 88.3%\n",
      "Validation accuracy: 90.3%\n",
      "Minibatch loss at step 9200: 0.397103\n",
      "Minibatch accuracy: 87.5%\n",
      "Validation accuracy: 90.1%\n",
      "Minibatch loss at step 9300: 0.391677\n",
      "Minibatch accuracy: 87.5%\n",
      "Validation accuracy: 90.3%\n",
      "Minibatch loss at step 9400: 0.232103\n",
      "Minibatch accuracy: 92.6%\n",
      "Validation accuracy: 90.3%\n",
      "Minibatch loss at step 9500: 0.319061\n",
      "Minibatch accuracy: 90.2%\n",
      "Validation accuracy: 90.1%\n",
      "Minibatch loss at step 9600: 0.285356\n",
      "Minibatch accuracy: 90.6%\n",
      "Validation accuracy: 90.3%\n",
      "Minibatch loss at step 9700: 0.290601\n",
      "Minibatch accuracy: 91.8%\n",
      "Validation accuracy: 90.3%\n",
      "Minibatch loss at step 9800: 0.403590\n",
      "Minibatch accuracy: 90.6%\n",
      "Validation accuracy: 90.0%\n",
      "Minibatch loss at step 9900: 0.352443\n",
      "Minibatch accuracy: 90.2%\n",
      "Validation accuracy: 90.3%\n",
      "Minibatch loss at step 10000: 0.356077\n",
      "Minibatch accuracy: 88.7%\n",
      "Validation accuracy: 90.0%\n",
      "Test accuracy: 95.6%\n"
     ]
    }
   ],
   "source": [
    "num_steps = 10001\n",
    "\n",
    "with tf.Session(graph=graph) as session:\n",
    "  tf.initialize_all_variables().run()\n",
    "  print('Initialized')\n",
    "  for step in range(num_steps):\n",
    "    offset = (step * batch_size) % (train_labels.shape[0] - batch_size)\n",
    "    batch_data = train_dataset[offset:(offset + batch_size), :, :, :]\n",
    "    batch_labels = train_labels[offset:(offset + batch_size), :]\n",
    "    feed_dict = {tf_train_dataset : batch_data, tf_train_labels : batch_labels}\n",
    "    _, l, predictions = session.run(\n",
    "      [optimizer, loss, train_prediction], feed_dict=feed_dict)\n",
    "    if (step % 100 == 0):\n",
    "      print('Minibatch loss at step %d: %f' % (step, l))\n",
    "      print('Minibatch accuracy: %.1f%%' % accuracy(predictions, batch_labels))\n",
    "      print('Validation accuracy: %.1f%%' % accuracy(\n",
    "        valid_prediction.eval(), valid_labels))\n",
    "  print('Test accuracy: %.1f%%' % accuracy(test_prediction.eval(), test_labels))"
   ]
  },
  {
   "cell_type": "markdown",
   "metadata": {
    "colab_type": "text",
    "id": "KedKkn4EutIK"
   },
   "source": [
    "---\n",
    "Problem 1\n",
    "---------\n",
    "\n",
    "The convolutional model above uses convolutions with stride 2 to reduce the dimensionality. Replace the strides by a max pooling operation (`nn.max_pool()`) of stride 2 and kernel size 2.\n",
    "\n",
    "---"
   ]
  },
  {
   "cell_type": "markdown",
   "metadata": {
    "colab_type": "text",
    "id": "klf21gpbAgb-"
   },
   "source": [
    "---\n",
    "Problem 2\n",
    "---------\n",
    "\n",
    "Try to get the best performance you can using a convolutional net. Look for example at the classic [LeNet5](http://yann.lecun.com/exdb/lenet/) architecture, adding Dropout, and/or adding learning rate decay.\n",
    "\n",
    "---"
   ]
  }
 ],
 "metadata": {
  "colab": {
   "default_view": {},
   "name": "4_convolutions.ipynb",
   "provenance": [],
   "version": "0.3.2",
   "views": {}
  },
  "kernelspec": {
   "display_name": "Python 2",
   "language": "python",
   "name": "python2"
  },
  "language_info": {
   "codemirror_mode": {
    "name": "ipython",
    "version": 2
   },
   "file_extension": ".py",
   "mimetype": "text/x-python",
   "name": "python",
   "nbconvert_exporter": "python",
   "pygments_lexer": "ipython2",
   "version": "2.7.6"
  }
 },
 "nbformat": 4,
 "nbformat_minor": 0
}
